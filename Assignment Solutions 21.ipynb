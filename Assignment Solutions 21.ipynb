{
  "cells": [
    {
      "cell_type": "markdown",
      "id": "984b4513",
      "metadata": {
        "id": "984b4513"
      },
      "source": [
        "# Assignment 21 Solutions"
      ]
    },
    {
      "cell_type": "markdown",
      "id": "4fe8b19e",
      "metadata": {
        "id": "4fe8b19e"
      },
      "source": [
        "#### 1. Add the current date to the text file today.txt as a string."
      ]
    },
    {
      "cell_type": "code",
      "execution_count": 1,
      "id": "4c5ad5ac",
      "metadata": {
        "colab": {
          "base_uri": "https://localhost:8080/"
        },
        "id": "4c5ad5ac",
        "outputId": "50b68192-a456-484d-c561-42d17e181087"
      },
      "outputs": [
        {
          "output_type": "stream",
          "name": "stdout",
          "text": [
            "23-06-2023\n"
          ]
        }
      ],
      "source": [
        "import datetime\n",
        "# Code to Add current date to the today.txt file\n",
        "file = open('today.txt','w')\n",
        "file.write(datetime.datetime.now().strftime(\"%d-%m-%Y\"))\n",
        "file.close()\n",
        "# Code to Read current date from today.txt file\n",
        "file = open('today.txt','r')\n",
        "print(file.read())\n",
        "file.close()"
      ]
    },
    {
      "cell_type": "markdown",
      "id": "6cf23762",
      "metadata": {
        "id": "6cf23762"
      },
      "source": [
        "#### 2. Read the text file today.txt into the string today_string"
      ]
    },
    {
      "cell_type": "code",
      "execution_count": 2,
      "id": "107143ea",
      "metadata": {
        "colab": {
          "base_uri": "https://localhost:8080/"
        },
        "id": "107143ea",
        "outputId": "fafd9d43-042a-4aa5-f10e-8f17d0a491b4"
      },
      "outputs": [
        {
          "output_type": "stream",
          "name": "stdout",
          "text": [
            "23-06-2023\n"
          ]
        }
      ],
      "source": [
        "file = open('today.txt','r')\n",
        "today_string = file.read()\n",
        "print(today_string)"
      ]
    },
    {
      "cell_type": "markdown",
      "id": "165addb6",
      "metadata": {
        "id": "165addb6"
      },
      "source": [
        "#### 3. Parse the date from today_string."
      ]
    },
    {
      "cell_type": "code",
      "execution_count": 3,
      "id": "c622da5b",
      "metadata": {
        "colab": {
          "base_uri": "https://localhost:8080/"
        },
        "id": "c622da5b",
        "outputId": "b5cde486-8306-4383-b609-20857e80c127"
      },
      "outputs": [
        {
          "output_type": "stream",
          "name": "stdout",
          "text": [
            "2023-06-23 00:00:00\n"
          ]
        }
      ],
      "source": [
        "from datetime import datetime\n",
        "parsed_data = datetime.strptime(today_string, '%d-%m-%Y')\n",
        "print(parsed_data)"
      ]
    },
    {
      "cell_type": "markdown",
      "id": "664d3278",
      "metadata": {
        "id": "664d3278"
      },
      "source": [
        "#### 4. List the files in your current directory"
      ]
    },
    {
      "cell_type": "code",
      "execution_count": 4,
      "id": "cbacd0e4",
      "metadata": {
        "colab": {
          "base_uri": "https://localhost:8080/"
        },
        "id": "cbacd0e4",
        "outputId": "caba94cf-80cb-4056-92d6-988a8b1a2ee0"
      },
      "outputs": [
        {
          "output_type": "stream",
          "name": "stdout",
          "text": [
            "today.txt\n",
            "config_sentinel\n",
            ".last_survey_prompt.yaml\n",
            "active_config\n",
            "gce\n",
            ".last_update_check.json\n",
            "default_configs.db\n",
            ".last_opt_in_prompt.yaml\n",
            "config_default\n",
            "01.15.02.819304.log\n",
            "01.13.40.960999.log\n",
            "01.15.03.520980.log\n",
            "01.14.30.259445.log\n",
            "01.14.06.378983.log\n",
            "01.14.37.930094.log\n",
            "anscombe.json\n",
            "README.md\n",
            "mnist_test.csv\n",
            "mnist_train_small.csv\n",
            "california_housing_train.csv\n",
            "california_housing_test.csv\n"
          ]
        }
      ],
      "source": [
        "import os\n",
        "for folders, subfolders, files in os.walk(os.getcwd()):\n",
        "    for file in files:\n",
        "        print(file)"
      ]
    },
    {
      "cell_type": "markdown",
      "id": "291a203b",
      "metadata": {
        "id": "291a203b"
      },
      "source": [
        "#### 5. Create a list of all of the files in your parent directory (minimum five files should be available)."
      ]
    },
    {
      "cell_type": "code",
      "execution_count": 5,
      "id": "efe9618b",
      "metadata": {
        "colab": {
          "base_uri": "https://localhost:8080/"
        },
        "id": "efe9618b",
        "outputId": "22ff4e86-fb45-4d4f-cd9b-fae60d3332a4"
      },
      "outputs": [
        {
          "output_type": "execute_result",
          "data": {
            "text/plain": [
              "['.config', 'today.txt', 'sample_data']"
            ]
          },
          "metadata": {},
          "execution_count": 5
        }
      ],
      "source": [
        "import os\n",
        "os.listdir()"
      ]
    },
    {
      "cell_type": "markdown",
      "id": "203dd9fe",
      "metadata": {
        "id": "203dd9fe"
      },
      "source": [
        "#### 6. Use multiprocessing to create three separate processes. Make each one wait a random number of seconds between one and five, print the current time, and then exit."
      ]
    },
    {
      "cell_type": "code",
      "execution_count": 6,
      "id": "bcb2799b",
      "metadata": {
        "colab": {
          "base_uri": "https://localhost:8080/"
        },
        "id": "bcb2799b",
        "outputId": "fd306d89-43c1-4459-93c8-2913059c3e47"
      },
      "outputs": [
        {
          "output_type": "stream",
          "name": "stdout",
          "text": [
            "Proc_one_Starttime -> 2023-06-23 20:07:58.715330\n",
            "Proc_two_Starttime -> 2023-06-23 20:07:58.727913\n",
            "Proc_two_Starttime -> 2023-06-23 20:07:58.740056\n",
            "Proc_one_Endtime -> 2023-06-23 20:07:59.740641\n",
            "Proc_two_Endtime -> 2023-06-23 20:08:01.744705\n",
            "Proc_two_Endtime -> 2023-06-23 20:08:03.754930\n"
          ]
        }
      ],
      "source": [
        "import multiprocessing\n",
        "import time\n",
        "import random\n",
        "import datetime\n",
        "\n",
        "def procOne():\n",
        "    print(f'Proc_one_Starttime -> {datetime.datetime.now()}')\n",
        "    time.sleep(random.randint(1,5))\n",
        "    print(f'Proc_one_Endtime -> {datetime.datetime.now()}')\n",
        "\n",
        "def procTwo():\n",
        "    print(f'Proc_two_Starttime -> {datetime.datetime.now()}')\n",
        "    time.sleep(random.randint(1,5))\n",
        "    print(f'Proc_two_Endtime -> {datetime.datetime.now()}')\n",
        "\n",
        "def procThree():\n",
        "    print(f'Proc_two_Starttime -> {datetime.datetime.now()}')\n",
        "    time.sleep(random.randint(1,5))\n",
        "    print(f'Proc_two_Endtime -> {datetime.datetime.now()}')\n",
        "\n",
        "if __name__ == \"__main__\":\n",
        "    p1 = multiprocessing.Process(target=procOne)\n",
        "    p2 = multiprocessing.Process(target=procTwo)\n",
        "    p3 = multiprocessing.Process(target=procThree)\n",
        "\n",
        "    p1.start()\n",
        "    p2.start()\n",
        "    p3.start()\n",
        "\n",
        "    p1.join()\n",
        "    p2.join()\n",
        "    p3.join()"
      ]
    },
    {
      "cell_type": "markdown",
      "id": "71d07e78",
      "metadata": {
        "id": "71d07e78"
      },
      "source": [
        "#### 7. Create a date object of your day of birth."
      ]
    },
    {
      "cell_type": "code",
      "execution_count": 7,
      "id": "b3e67c1c",
      "metadata": {
        "colab": {
          "base_uri": "https://localhost:8080/"
        },
        "id": "b3e67c1c",
        "outputId": "45c2f10b-9f41-4525-a806-3b71ab3935c1"
      },
      "outputs": [
        {
          "output_type": "stream",
          "name": "stdout",
          "text": [
            "1994-01-12 00:00:00 <class 'datetime.datetime'>\n"
          ]
        }
      ],
      "source": [
        "from datetime import datetime\n",
        "my_dob = datetime.strptime('12/01/1994','%d/%m/%Y')\n",
        "print(my_dob, type(my_dob))"
      ]
    },
    {
      "cell_type": "markdown",
      "id": "e5775db9",
      "metadata": {
        "id": "e5775db9"
      },
      "source": [
        "#### 8. What day of the week was your day of birth?"
      ]
    },
    {
      "cell_type": "code",
      "execution_count": 8,
      "id": "65b6ae43",
      "metadata": {
        "colab": {
          "base_uri": "https://localhost:8080/",
          "height": 36
        },
        "id": "65b6ae43",
        "outputId": "5e12fec2-b8a3-4750-df4a-356ed0cc6cfd"
      },
      "outputs": [
        {
          "output_type": "execute_result",
          "data": {
            "text/plain": [
              "'Wednesday'"
            ],
            "application/vnd.google.colaboratory.intrinsic+json": {
              "type": "string"
            }
          },
          "metadata": {},
          "execution_count": 8
        }
      ],
      "source": [
        "from datetime import datetime\n",
        "my_dob = datetime(1994,1,12)\n",
        "my_dob.strftime(\"%A\")"
      ]
    },
    {
      "cell_type": "markdown",
      "id": "abe779de",
      "metadata": {
        "id": "abe779de"
      },
      "source": [
        "#### 9. When will you be (or when were you) 10,000 days old?"
      ]
    },
    {
      "cell_type": "code",
      "execution_count": 9,
      "id": "db7e28a0",
      "metadata": {
        "colab": {
          "base_uri": "https://localhost:8080/"
        },
        "id": "db7e28a0",
        "outputId": "a73e823a-a301-484b-fe15-1efd87dad05e"
      },
      "outputs": [
        {
          "output_type": "execute_result",
          "data": {
            "text/plain": [
              "datetime.datetime(1966, 8, 27, 0, 0)"
            ]
          },
          "metadata": {},
          "execution_count": 9
        }
      ],
      "source": [
        "from datetime import datetime, timedelta\n",
        "my_dob = datetime.strptime(\"12/01/1994\",'%d/%m/%Y')\n",
        "future_date = my_dob-timedelta(10000)\n",
        "future_date"
      ]
    },
    {
      "cell_type": "code",
      "source": [],
      "metadata": {
        "id": "tS3I2Uvb3utK"
      },
      "id": "tS3I2Uvb3utK",
      "execution_count": null,
      "outputs": []
    }
  ],
  "metadata": {
    "colab": {
      "provenance": []
    },
    "kernelspec": {
      "display_name": "Python 3 (ipykernel)",
      "language": "python",
      "name": "python3"
    },
    "language_info": {
      "codemirror_mode": {
        "name": "ipython",
        "version": 3
      },
      "file_extension": ".py",
      "mimetype": "text/x-python",
      "name": "python",
      "nbconvert_exporter": "python",
      "pygments_lexer": "ipython3",
      "version": "3.9.12"
    }
  },
  "nbformat": 4,
  "nbformat_minor": 5
}